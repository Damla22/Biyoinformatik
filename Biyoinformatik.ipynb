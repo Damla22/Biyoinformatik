{
  "cells": [
    {
      "cell_type": "code",
      "execution_count": null,
      "metadata": {
        "colab": {
          "base_uri": "https://localhost:8080/"
        },
        "collapsed": true,
        "id": "7N47vdKExlj9",
        "outputId": "520a3d12-4e0f-40f7-953a-b80215b1e618"
      },
      "outputs": [
        {
          "name": "stdout",
          "output_type": "stream",
          "text": [
            "Collecting biopython\n",
            "  Downloading biopython-1.84-cp310-cp310-manylinux_2_17_x86_64.manylinux2014_x86_64.whl.metadata (12 kB)\n",
            "Requirement already satisfied: numpy in /usr/local/lib/python3.10/dist-packages (from biopython) (1.26.4)\n",
            "Downloading biopython-1.84-cp310-cp310-manylinux_2_17_x86_64.manylinux2014_x86_64.whl (3.2 MB)\n",
            "\u001b[?25l   \u001b[90m━━━━━━━━━━━━━━━━━━━━━━━━━━━━━━━━━━━━━━━━\u001b[0m \u001b[32m0.0/3.2 MB\u001b[0m \u001b[31m?\u001b[0m eta \u001b[36m-:--:--\u001b[0m\r\u001b[2K   \u001b[91m━━━━━━━━━━━━━━━━━━━━━━━━━━━━━━━━━━━━━━━\u001b[0m\u001b[91m╸\u001b[0m \u001b[32m3.2/3.2 MB\u001b[0m \u001b[31m141.6 MB/s\u001b[0m eta \u001b[36m0:00:01\u001b[0m\r\u001b[2K   \u001b[90m━━━━━━━━━━━━━━━━━━━━━━━━━━━━━━━━━━━━━━━━\u001b[0m \u001b[32m3.2/3.2 MB\u001b[0m \u001b[31m75.5 MB/s\u001b[0m eta \u001b[36m0:00:00\u001b[0m\n",
            "\u001b[?25hInstalling collected packages: biopython\n",
            "Successfully installed biopython-1.84\n"
          ]
        }
      ],
      "source": [
        "!pip install biopython"
      ]
    },
    {
      "cell_type": "code",
      "execution_count": null,
      "metadata": {
        "colab": {
          "base_uri": "https://localhost:8080/"
        },
        "id": "S4BvmVgLzAV3",
        "outputId": "1bdc2e40-4f39-4f59-e2e3-ee74ef3f0b1f"
      },
      "outputs": [
        {
          "name": "stdout",
          "output_type": "stream",
          "text": [
            "FASTA dosyası 'sequences.fasta' oluşturuldu.\n"
          ]
        }
      ],
      "source": [
        "# FASTA dosyasını oluşturma\n",
        "fasta_content = \"\"\">seq1\n",
        "ATGCTTCAGAAAGGTCTTACG\n",
        ">seq2\n",
        "TGGAGCCTACTGAACTGGTC\n",
        ">seq3\n",
        "AGCTTGACTGAGTCCTGAGG\n",
        "\"\"\"\n",
        "\n",
        "# Dosyayı kaydetme\n",
        "with open(\"sequences.fasta\", \"w\") as file:\n",
        "    file.write(fasta_content)\n",
        "print(\"FASTA dosyası 'sequences.fasta' oluşturuldu.\")"
      ]
    },
    {
      "cell_type": "code",
      "execution_count": null,
      "metadata": {
        "colab": {
          "base_uri": "https://localhost:8080/"
        },
        "id": "OPAwSRIFwwMV",
        "outputId": "0b1e3a0e-af9e-4224-91ae-6f79997c78c0"
      },
      "outputs": [
        {
          "name": "stdout",
          "output_type": "stream",
          "text": [
            ">seq1 uzunluğu: 21\n",
            ">seq2 uzunluğu: 20\n",
            ">seq3 uzunluğu: 20\n"
          ]
        }
      ],
      "source": [
        "# FASTA dosyasını okuma ve her dizilimin uzunluğunu bulma\n",
        "with open(\"sequences.fasta\", \"r\") as file:\n",
        "    sequences = {}\n",
        "    current_seq = \"\"\n",
        "\n",
        "    for line in file:\n",
        "        if line.startswith(\">\"):\n",
        "            current_seq = line.strip()\n",
        "            sequences[current_seq] = \"\"\n",
        "        else:\n",
        "            sequences[current_seq] += line.strip()\n",
        "\n",
        "# Dizilimlerin uzunluklarını yazdırma\n",
        "for seq_name, sequence in sequences.items():\n",
        "    print(f\"{seq_name} uzunluğu: {len(sequence)}\")"
      ]
    },
    {
      "cell_type": "code",
      "execution_count": null,
      "metadata": {
        "colab": {
          "base_uri": "https://localhost:8080/"
        },
        "id": "Nqt7noe8wwi0",
        "outputId": "45572f0d-3701-4bd9-bd24-9dbf04f07c9b"
      },
      "outputs": [
        {
          "name": "stdout",
          "output_type": "stream",
          "text": [
            "Toplam Blosum-62 skoru: 110.0\n"
          ]
        }
      ],
      "source": [
        "# ÖNEMLİ : Almış olduğunuz sonucu bu çıktı ile karşılaştırınız.\n",
        "\n",
        "from Bio.Align import substitution_matrices\n",
        "\n",
        "# Blosum-62 matrisi\n",
        "blosum62 = substitution_matrices.load(\"BLOSUM62\")\n",
        "\n",
        "# Protein dizileri\n",
        "seq1 = \"ARNDCEQGHILKMFPSTWYV\"\n",
        "seq2 = \"ARNECEQGHVLKMFPSTWYI\"\n",
        "\n",
        "# Toplam skor hesaplama\n",
        "total_score = sum(blosum62[aa1, aa2] for aa1, aa2 in zip(seq1, seq2))\n",
        "\n",
        "print(f\"Toplam Blosum-62 skoru: {total_score}\")\n"
      ]
    },
    {
      "cell_type": "code",
      "execution_count": null,
      "metadata": {
        "colab": {
          "base_uri": "https://localhost:8080/"
        },
        "id": "Hyj7BSEZwtgv",
        "outputId": "485c78b4-0da3-4954-ac63-6c7f6bee7747"
      },
      "outputs": [
        {
          "name": "stdout",
          "output_type": "stream",
          "text": [
            "Toplam Blosum-62 skoru: 110\n"
          ]
        }
      ],
      "source": [
        "# Blosum-62 matrisinin tam tanımı\n",
        "blosum62 = {\n",
        "    ('A', 'A'): 4,  ('A', 'R'): -1, ('A', 'N'): -2, ('A', 'D'): -2, ('A', 'C'): 0,\n",
        "    ('A', 'Q'): -1, ('A', 'E'): -1, ('A', 'G'): 0,  ('A', 'H'): -2, ('A', 'I'): -1,\n",
        "    ('A', 'L'): -1, ('A', 'K'): -1, ('A', 'M'): -1, ('A', 'F'): -2, ('A', 'P'): -1,\n",
        "    ('A', 'S'): 1,  ('A', 'T'): 0,  ('A', 'W'): -3, ('A', 'Y'): -2, ('A', 'V'): 0,\n",
        "\n",
        "    ('R', 'R'): 5,  ('R', 'N'): 0,  ('R', 'D'): -2, ('R', 'C'): -3, ('R', 'Q'): 1,\n",
        "    ('R', 'E'): 0,  ('R', 'G'): -2, ('R', 'H'): 0,  ('R', 'I'): -3, ('R', 'L'): -2,\n",
        "    ('R', 'K'): 2,  ('R', 'M'): -1, ('R', 'F'): -3, ('R', 'P'): -2, ('R', 'S'): -1,\n",
        "    ('R', 'T'): -1, ('R', 'W'): -3, ('R', 'Y'): -2, ('R', 'V'): -3,\n",
        "\n",
        "    ('N', 'N'): 6,  ('N', 'D'): 1,  ('N', 'C'): -3, ('N', 'Q'): 0,  ('N', 'E'): 0,\n",
        "    ('N', 'G'): 0,  ('N', 'H'): 1,  ('N', 'I'): -3, ('N', 'L'): -3, ('N', 'K'): 0,\n",
        "    ('N', 'M'): -2, ('N', 'F'): -3, ('N', 'P'): -2, ('N', 'S'): 1,  ('N', 'T'): 0,\n",
        "    ('N', 'W'): -4, ('N', 'Y'): -2, ('N', 'V'): -3,\n",
        "\n",
        "    ('D', 'D'): 6,  ('D', 'C'): -3, ('D', 'Q'): 0,  ('D', 'E'): 2,  ('D', 'G'): -1,\n",
        "    ('D', 'H'): -1, ('D', 'I'): -3, ('D', 'L'): -4, ('D', 'K'): -1, ('D', 'M'): -3,\n",
        "    ('D', 'F'): -3, ('D', 'P'): -1, ('D', 'S'): 0,  ('D', 'T'): -1, ('D', 'W'): -4,\n",
        "    ('D', 'Y'): -3, ('D', 'V'): -3,\n",
        "\n",
        "    ('C', 'C'): 9,  ('C', 'Q'): -3, ('C', 'E'): -4, ('C', 'G'): -3, ('C', 'H'): -3,\n",
        "    ('C', 'I'): -1, ('C', 'L'): -1, ('C', 'K'): -3, ('C', 'M'): -1, ('C', 'F'): -2,\n",
        "    ('C', 'P'): -3, ('C', 'S'): -1, ('C', 'T'): -1, ('C', 'W'): -2, ('C', 'Y'): -2,\n",
        "    ('C', 'V'): -1,\n",
        "\n",
        "    ('Q', 'Q'): 5,  ('Q', 'E'): 2,  ('Q', 'G'): -2, ('Q', 'H'): 0,  ('Q', 'I'): -3,\n",
        "    ('Q', 'L'): -2, ('Q', 'K'): 1,  ('Q', 'M'): 0,  ('Q', 'F'): -3, ('Q', 'P'): -1,\n",
        "    ('Q', 'S'): 0,  ('Q', 'T'): -1, ('Q', 'W'): -2, ('Q', 'Y'): -1, ('Q', 'V'): -2,\n",
        "\n",
        "    ('E', 'E'): 5,  ('E', 'G'): -2, ('E', 'H'): 0,  ('E', 'I'): -3, ('E', 'L'): -3,\n",
        "    ('E', 'K'): 1,  ('E', 'M'): -2, ('E', 'F'): -3, ('E', 'P'): -1, ('E', 'S'): 0,\n",
        "    ('E', 'T'): -1, ('E', 'W'): -3, ('E', 'Y'): -2, ('E', 'V'): -2,\n",
        "\n",
        "    ('G', 'G'): 6,  ('G', 'H'): -2, ('G', 'I'): -4, ('G', 'L'): -4, ('G', 'K'): -2,\n",
        "    ('G', 'M'): -3, ('G', 'F'): -3, ('G', 'P'): -2, ('G', 'S'): 0,  ('G', 'T'): -2,\n",
        "    ('G', 'W'): -2, ('G', 'Y'): -3, ('G', 'V'): -3,\n",
        "\n",
        "    ('H', 'H'): 8,  ('H', 'I'): -3, ('H', 'L'): -3, ('H', 'K'): -1, ('H', 'M'): -2,\n",
        "    ('H', 'F'): -1, ('H', 'P'): -2, ('H', 'S'): -1, ('H', 'T'): -2, ('H', 'W'): -2,\n",
        "    ('H', 'Y'): 2,  ('H', 'V'): -3,\n",
        "\n",
        "    ('I', 'I'): 4,  ('I', 'L'): 2,  ('I', 'K'): -3, ('I', 'M'): 1,  ('I', 'F'): 0,\n",
        "    ('I', 'P'): -3, ('I', 'S'): -2, ('I', 'T'): -1, ('I', 'W'): -3, ('I', 'Y'): -1,\n",
        "    ('I', 'V'): 3,\n",
        "\n",
        "    ('L', 'L'): 4,  ('L', 'K'): -2, ('L', 'M'): 2,  ('L', 'F'): 0,  ('L', 'P'): -3,\n",
        "    ('L', 'S'): -2, ('L', 'T'): -1, ('L', 'W'): -2, ('L', 'Y'): -1, ('L', 'V'): 1,\n",
        "\n",
        "    ('K', 'K'): 5,  ('K', 'M'): -1, ('K', 'F'): -3, ('K', 'P'): -1, ('K', 'S'): 0,\n",
        "    ('K', 'T'): -1, ('K', 'W'): -3, ('K', 'Y'): -2, ('K', 'V'): -2,\n",
        "\n",
        "    ('M', 'M'): 5,  ('M', 'F'): 0,  ('M', 'P'): -2, ('M', 'S'): -1, ('M', 'T'): -1,\n",
        "    ('M', 'W'): -1, ('M', 'Y'): -1, ('M', 'V'): 1,\n",
        "\n",
        "    ('F', 'F'): 6,  ('F', 'P'): -4, ('F', 'S'): -2, ('F', 'T'): -2, ('F', 'W'): 1,\n",
        "    ('F', 'Y'): 3,  ('F', 'V'): -1,\n",
        "\n",
        "    ('P', 'P'): 7,  ('P', 'S'): -1, ('P', 'T'): -1, ('P', 'W'): -4, ('P', 'Y'): -3,\n",
        "    ('P', 'V'): -2,\n",
        "\n",
        "    ('S', 'S'): 4,  ('S', 'T'): 1,  ('S', 'W'): -3, ('S', 'Y'): -2, ('S', 'V'): -2,\n",
        "\n",
        "    ('T', 'T'): 5,  ('T', 'W'): -2, ('T', 'Y'): -2, ('T', 'V'): 0,\n",
        "\n",
        "    ('W', 'W'): 11, ('W', 'Y'): 2,  ('W', 'V'): -3,\n",
        "\n",
        "    ('Y', 'Y'): 7,  ('Y', 'V'): -1,\n",
        "\n",
        "    ('V', 'V'): 4,\n",
        "}\n",
        "\n",
        "for (a1, a2), score in list(blosum62.items()):\n",
        "    if (a2, a1) not in blosum62:\n",
        "        blosum62[(a2, a1)] = score\n",
        "\n",
        "seq1 = \"ARNDCEQGHILKMFPSTWYV\"\n",
        "seq2 = \"ARNECEQGHVLKMFPSTWYI\"\n",
        "\n",
        "# Toplam Blosum-62 skorunu hesapla\n",
        "\n",
        "total_score = 0\n",
        "for aa1, aa2 in zip(seq1, seq2):\n",
        "    score = blosum62.get((aa1, aa2), blosum62.get((aa2, aa1), 0))\n",
        "    total_score += score\n",
        "\n",
        "print(f\"Toplam Blosum-62 skoru: {total_score}\")\n",
        "\n",
        "\n"
      ]
    },
    {
      "cell_type": "code",
      "execution_count": null,
      "metadata": {
        "colab": {
          "base_uri": "https://localhost:8080/"
        },
        "id": "pJ6UzW1K2yUK",
        "outputId": "4faaf61c-6888-47a3-98e0-13eb3e264ec7"
      },
      "outputs": [
        {
          "name": "stdout",
          "output_type": "stream",
          "text": [
            "Hizalama:\n",
            "GTACTCA\n",
            "GCATTGA\n",
            "Toplam Skor: 5.0\n"
          ]
        }
      ],
      "source": [
        "import numpy as np\n",
        "\n",
        "def needleman_wunsch(seq1, seq2, match_score=2, mismatch_score=-1, gap_penalty=-2):\n",
        "    n = len(seq1) + 1\n",
        "    m = len(seq2) + 1\n",
        "\n",
        "    score_matrix = np.zeros((n, m))\n",
        "    direction_matrix = np.zeros((n, m), dtype='object')\n",
        "\n",
        "    # İlk satırı ve sütunu doldurma\n",
        "    for i in range(1, n):\n",
        "        score_matrix[i][0] = gap_penalty * i\n",
        "        direction_matrix[i][0] = 'U'  # Yukarıdan geldi\n",
        "    for j in range(1, m):\n",
        "        score_matrix[0][j] = gap_penalty * j\n",
        "        direction_matrix[0][j] = 'L'  # Soldan geldi\n",
        "\n",
        "    # Skor matrisini doldurma\n",
        "    for i in range(1, n):\n",
        "        for j in range(1, m):\n",
        "            if seq1[i - 1] == seq2[j - 1]:\n",
        "                score_diagonal = score_matrix[i - 1][j - 1] + match_score\n",
        "            else:\n",
        "                score_diagonal = score_matrix[i - 1][j - 1] + mismatch_score\n",
        "\n",
        "            score_up = score_matrix[i - 1][j] + gap_penalty\n",
        "            score_left = score_matrix[i][j - 1] + gap_penalty\n",
        "\n",
        "            # En iyi skoru ve yönü bulma\n",
        "            score_matrix[i][j] = max(score_diagonal, score_up, score_left)\n",
        "            if score_matrix[i][j] == score_diagonal:\n",
        "                direction_matrix[i][j] = 'D'  # Köşegen (Diyagonal)\n",
        "            elif score_matrix[i][j] == score_up:\n",
        "                direction_matrix[i][j] = 'U'  # Yukarı\n",
        "            else:\n",
        "                direction_matrix[i][j] = 'L'  # Sol\n",
        "\n",
        "    alignment_seq1 = []\n",
        "    alignment_seq2 = []\n",
        "    i, j = n - 1, m - 1\n",
        "\n",
        "    while i > 0 or j > 0:\n",
        "        if direction_matrix[i][j] == 'D':\n",
        "            alignment_seq1.append(seq1[i - 1])\n",
        "            alignment_seq2.append(seq2[j - 1])\n",
        "            i -= 1\n",
        "            j -= 1\n",
        "        elif direction_matrix[i][j] == 'U':\n",
        "            alignment_seq1.append(seq1[i - 1])\n",
        "            alignment_seq2.append('-')\n",
        "            i -= 1\n",
        "        else:\n",
        "            alignment_seq1.append('-')\n",
        "            alignment_seq2.append(seq2[j - 1])\n",
        "            j -= 1\n",
        "\n",
        "    alignment_seq1.reverse()\n",
        "    alignment_seq2.reverse()\n",
        "\n",
        "    return ''.join(alignment_seq1), ''.join(alignment_seq2), score_matrix[-1][-1]\n",
        "\n",
        "\n",
        "seq1 = \"GTACTCA\"\n",
        "seq2 = \"GCATTGA\"\n",
        "\n",
        "# Fonksiyonu çağırma\n",
        "alignment1, alignment2, final_score = needleman_wunsch(seq1, seq2)\n",
        "\n",
        "# Sonuçları yazdırma\n",
        "print(\"Hizalama:\")\n",
        "print(alignment1)\n",
        "print(alignment2)\n",
        "print(\"Toplam Skor:\", final_score)"
      ]
    },
    {
      "cell_type": "code",
      "execution_count": null,
      "metadata": {
        "colab": {
          "base_uri": "https://localhost:8080/"
        },
        "id": "qE6d5M902yfI",
        "outputId": "7e4f6bba-28f3-4251-cc1a-22c53bd5f3ea"
      },
      "outputs": [
        {
          "name": "stdout",
          "output_type": "stream",
          "text": [
            "Hizalama:\n",
            "CA\n",
            "CA\n",
            "Toplam Skor: 6.0\n"
          ]
        }
      ],
      "source": [
        "import numpy as np\n",
        "\n",
        "def smith_waterman(seq1, seq2, match_score=3, mismatch_score=-3, gap_penalty=-2):\n",
        "    n = len(seq1) + 1\n",
        "    m = len(seq2) + 1\n",
        "\n",
        "    score_matrix = np.zeros((n, m))\n",
        "\n",
        "    max_score = 0\n",
        "    max_position = (0, 0)\n",
        "\n",
        "    for i in range(1, n):\n",
        "        for j in range(1, m):\n",
        "            if seq1[i - 1] == seq2[j - 1]:\n",
        "                score_diagonal = score_matrix[i - 1][j - 1] + match_score\n",
        "            else:\n",
        "                score_diagonal = score_matrix[i - 1][j - 1] + mismatch_score\n",
        "\n",
        "            score_up = score_matrix[i - 1][j] + gap_penalty\n",
        "            score_left = score_matrix[i][j - 1] + gap_penalty\n",
        "\n",
        "            score_matrix[i][j] = max(0, score_diagonal, score_up, score_left)\n",
        "\n",
        "            if score_matrix[i][j] > max_score:\n",
        "                max_score = score_matrix[i][j]\n",
        "                max_position = (i, j)\n",
        "\n",
        "    alignment_seq1 = []\n",
        "    alignment_seq2 = []\n",
        "    i, j = max_position\n",
        "\n",
        "    while score_matrix[i][j] != 0:\n",
        "        if score_matrix[i][j] == score_matrix[i - 1][j] + gap_penalty:\n",
        "            alignment_seq1.append(seq1[i - 1])\n",
        "            alignment_seq2.append('-')\n",
        "            i -= 1\n",
        "        elif score_matrix[i][j] == score_matrix[i][j - 1] + gap_penalty:\n",
        "            alignment_seq1.append('-')\n",
        "            alignment_seq2.append(seq2[j - 1])\n",
        "            j -= 1\n",
        "        else:\n",
        "            alignment_seq1.append(seq1[i - 1])\n",
        "            alignment_seq2.append(seq2[j - 1])\n",
        "            i -= 1\n",
        "            j -= 1\n",
        "\n",
        "    alignment_seq1.reverse()\n",
        "    alignment_seq2.reverse()\n",
        "\n",
        "    return ''.join(alignment_seq1), ''.join(alignment_seq2), max_score\n",
        "\n",
        "seq1 = \"GTACTCA\"\n",
        "seq2 = \"GCATTGA\"\n",
        "\n",
        "# Fonksiyonu çağırma\n",
        "alignment1, alignment2, final_score = smith_waterman(seq1, seq2)\n",
        "\n",
        "# Sonuçları yazdırma\n",
        "print(\"Hizalama:\")\n",
        "print(alignment1)\n",
        "print(alignment2)\n",
        "print(\"Toplam Skor:\", final_score)"
      ]
    },
    {
      "cell_type": "code",
      "execution_count": null,
      "metadata": {
        "colab": {
          "base_uri": "https://localhost:8080/"
        },
        "id": "oFRQVVMjIv4y",
        "outputId": "78975da4-408a-474d-8173-20c7a0375bdb"
      },
      "outputs": [
        {
          "name": "stdout",
          "output_type": "stream",
          "text": [
            "DNA dizisini girin: ATGCTTCAGATGCTTGGATGCGT\n",
            "Aranacak motifi girin: ATG\n",
            "Motif 'ATG' 3 kez bulundu\n",
            "Başlangıç indeksleri: [0, 9, 17]\n"
          ]
        }
      ],
      "source": [
        "def motif_arama(dna_sequence, motif):\n",
        "    indices = []\n",
        "    start = 0\n",
        "    while True:\n",
        "        start = dna_sequence.find(motif, start)\n",
        "        if start == -1:\n",
        "            break\n",
        "        indices.append(start)\n",
        "        start += 1\n",
        "\n",
        "    motif_count = len(indices)\n",
        "    return indices, motif_count\n",
        "\n",
        "# Kullanıcı girdisi\n",
        "dna_sequence = input(\"DNA dizisini girin: \")\n",
        "motif = input(\"Aranacak motifi girin: \")\n",
        "\n",
        "# Motif arama işlemini gerçekleştirin\n",
        "indices, motif_count = motif_arama(dna_sequence, motif)\n",
        "\n",
        "# Sonuçları ekrana yazdırın\n",
        "print(f\"Motif '{motif}' {motif_count} kez bulundu\")\n",
        "print(\"Başlangıç indeksleri:\", indices)"
      ]
    },
    {
      "cell_type": "code",
      "execution_count": null,
      "metadata": {
        "id": "4GtN2FwaPFqa"
      },
      "outputs": [],
      "source": []
    }
  ],
  "metadata": {
    "colab": {
      "provenance": []
    },
    "kernelspec": {
      "display_name": "Python 3",
      "name": "python3"
    },
    "language_info": {
      "name": "python"
    }
  },
  "nbformat": 4,
  "nbformat_minor": 0
}